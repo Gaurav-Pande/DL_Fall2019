{
 "cells": [
  {
   "cell_type": "markdown",
   "metadata": {},
   "source": [
    "## Visualizing the trained filters"
   ]
  },
  {
   "cell_type": "code",
   "execution_count": 1,
   "metadata": {
    "collapsed": true
   },
   "outputs": [],
   "source": [
    "# some startup! \n",
    "import numpy as np\n",
    "import matplotlib\n",
    "# This is needed to save images \n",
    "matplotlib.use('Agg')\n",
    "import matplotlib.pyplot as plt\n",
    "import torch"
   ]
  },
  {
   "cell_type": "code",
   "execution_count": 2,
   "metadata": {
    "collapsed": true
   },
   "outputs": [],
   "source": [
    "# load the model saved by train.py\n",
    "# This will be an instance of models.softmax.Softmax.\n",
    "# NOTE: You may need to change this file name.\n",
    "softmax_model = torch.load('softmax.pt')"
   ]
  },
  {
   "cell_type": "code",
   "execution_count": 54,
   "metadata": {},
   "outputs": [
    {
     "data": {
      "text/plain": [
       "<bound method Module.parameters of Softmax(\n",
       "  (linear_layer): Linear(in_features=3072, out_features=10, bias=True)\n",
       ")>"
      ]
     },
     "execution_count": 54,
     "metadata": {},
     "output_type": "execute_result"
    }
   ],
   "source": [
    "softmax_model.parameters"
   ]
  },
  {
   "cell_type": "code",
   "execution_count": 55,
   "metadata": {},
   "outputs": [],
   "source": [
    "w = list(softmax_model.parameters())[0].data"
   ]
  },
  {
   "cell_type": "code",
   "execution_count": 56,
   "metadata": {},
   "outputs": [
    {
     "name": "stdout",
     "output_type": "stream",
     "text": [
      "figure saved\n"
     ]
    }
   ],
   "source": [
    "# collect all the weights\n",
    "w = list(softmax_model.parameters())[0].data.T.reshape(10,32,32,3).numpy()\n",
    "#############################################################################\n",
    "# TODO: Extract the weight matrix (without bias) from softmax_model, convert\n",
    "# it to a numpy array with shape (10, 32, 32, 3), and assign this array to w.\n",
    "# The first dimension should be for channels, then height, width, and color.\n",
    "# This step depends on how you implemented models.softmax.Softmax.\n",
    "#############################################################################\n",
    "# pass\n",
    "#############################################################################\n",
    "#                             END OF YOUR CODE                              #\n",
    "#############################################################################\n",
    "# obtain min,max to normalize\n",
    "w_min, w_max = np.min(w), np.max(w)\n",
    "# classes\n",
    "classes = ['plane', 'car', 'bird', 'cat', 'deer', 'dog', 'frog', 'horse', 'ship', 'truck']\n",
    "# init figure \n",
    "fig = plt.figure(figsize=(6,6))\n",
    "for i in range(10):\n",
    "    wimg = 255.0*(w[i].squeeze() - w_min) / (w_max - w_min)\n",
    "    # subplot is (2,5) as ten filters are to be visualized\n",
    "    fig.add_subplot(2,5,i+1).imshow(wimg.astype('uint8'))\n",
    "# save fig! \n",
    "fig.savefig('softmax_filt.png')\n",
    "print('figure saved')"
   ]
  },
  {
   "cell_type": "code",
   "execution_count": 20,
   "metadata": {},
   "outputs": [
    {
     "name": "stdout",
     "output_type": "stream",
     "text": [
      "figure saved as a grid!\n"
     ]
    }
   ],
   "source": [
    "# vis_utils.py has helper code to view multiple filters in single image. Use this to visuzlize \n",
    "# neural network adn convnets. \n",
    "# import vis_utils\n",
    "from vis_utils import visualize_grid\n",
    "# saving the weights is now as simple as:\n",
    "plt.imsave('softmax_gridfilt.png',visualize_grid(w, padding=3).astype('uint8'))\n",
    "# padding is the space between images. Make sure that w is of shape: (N,H,W,C)\n",
    "print('figure saved as a grid!')"
   ]
  },
  {
   "cell_type": "code",
   "execution_count": 8,
   "metadata": {
    "collapsed": true
   },
   "outputs": [],
   "source": [
    "# Two layer nn"
   ]
  },
  {
   "cell_type": "code",
   "execution_count": 9,
   "metadata": {
    "collapsed": true
   },
   "outputs": [],
   "source": [
    "two_layer_nn_model = torch.load('twolayernn.pt')"
   ]
  },
  {
   "cell_type": "code",
   "execution_count": 38,
   "metadata": {},
   "outputs": [
    {
     "data": {
      "text/plain": [
       "(40, 3072)"
      ]
     },
     "execution_count": 38,
     "metadata": {},
     "output_type": "execute_result"
    }
   ],
   "source": [
    "list(two_layer_nn_model.parameters())[0].data.numpy().shape"
   ]
  },
  {
   "cell_type": "code",
   "execution_count": 39,
   "metadata": {},
   "outputs": [
    {
     "data": {
      "text/plain": [
       "(40, 32, 32, 3)"
      ]
     },
     "execution_count": 39,
     "metadata": {},
     "output_type": "execute_result"
    }
   ],
   "source": [
    "w = list(two_layer_nn_model.parameters())[0].data.numpy()\n",
    "w = w.reshape(-1,32,32,3)\n",
    "w.shape"
   ]
  },
  {
   "cell_type": "code",
   "execution_count": 40,
   "metadata": {},
   "outputs": [
    {
     "name": "stdout",
     "output_type": "stream",
     "text": [
      "figure saved as a grid!\n"
     ]
    }
   ],
   "source": [
    "# vis_utils.py has helper code to view multiple filters in single image. Use this to visuzlize \n",
    "# neural network adn convnets. \n",
    "# import vis_utils\n",
    "from vis_utils import visualize_grid\n",
    "# saving the weights is now as simple as:\n",
    "plt.imsave('twolayernn_gridfilt.png',visualize_grid(w, padding=3).astype('uint8'))\n",
    "# padding is the space between images. Make sure that w is of shape: (N,H,W,C)\n",
    "print('figure saved as a grid!')"
   ]
  },
  {
   "cell_type": "code",
   "execution_count": 41,
   "metadata": {
    "collapsed": true
   },
   "outputs": [],
   "source": [
    "# Convnet visualization"
   ]
  },
  {
   "cell_type": "code",
   "execution_count": 42,
   "metadata": {
    "collapsed": true
   },
   "outputs": [],
   "source": [
    "convnet_model = torch.load('convnet.pt')"
   ]
  },
  {
   "cell_type": "code",
   "execution_count": 52,
   "metadata": {},
   "outputs": [],
   "source": [
    "w = list(convnet_model.parameters())[0].data.numpy()"
   ]
  },
  {
   "cell_type": "code",
   "execution_count": 53,
   "metadata": {},
   "outputs": [
    {
     "name": "stdout",
     "output_type": "stream",
     "text": [
      "figure saved as a grid!\n"
     ]
    }
   ],
   "source": [
    "# vis_utils.py has helper code to view multiple filters in single image. Use this to visuzlize \n",
    "# neural network adn convnets. \n",
    "# import vis_utils\n",
    "from vis_utils import visualize_grid\n",
    "# saving the weights is now as simple as:\n",
    "plt.imsave('convnet_gridfilt.png',visualize_grid(w, padding=3).astype('uint8'))\n",
    "# padding is the space between images. Make sure that w is of shape: (N,H,W,C)\n",
    "print('figure saved as a grid!')"
   ]
  },
  {
   "cell_type": "code",
   "execution_count": 57,
   "metadata": {
    "collapsed": true
   },
   "outputs": [],
   "source": [
    "# mymodel visualization"
   ]
  },
  {
   "cell_type": "code",
   "execution_count": null,
   "metadata": {},
   "outputs": [],
   "source": []
  },
  {
   "cell_type": "code",
   "execution_count": null,
   "metadata": {
    "collapsed": true
   },
   "outputs": [],
   "source": []
  }
 ],
 "metadata": {
  "kernelspec": {
   "display_name": "Python 3",
   "language": "python",
   "name": "python3"
  },
  "language_info": {
   "codemirror_mode": {
    "name": "ipython",
    "version": 3
   },
   "file_extension": ".py",
   "mimetype": "text/x-python",
   "name": "python",
   "nbconvert_exporter": "python",
   "pygments_lexer": "ipython3",
   "version": "3.6.3"
  }
 },
 "nbformat": 4,
 "nbformat_minor": 2
}
