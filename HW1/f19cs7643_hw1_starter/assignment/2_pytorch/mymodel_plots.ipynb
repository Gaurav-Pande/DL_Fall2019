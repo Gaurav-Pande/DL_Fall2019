{
  "nbformat": 4,
  "nbformat_minor": 0,
  "metadata": {
    "colab": {
      "name": "mymodel_plots.ipynb",
      "provenance": [],
      "collapsed_sections": []
    },
    "kernelspec": {
      "name": "python3",
      "display_name": "Python 3"
    },
    "accelerator": "GPU"
  },
  "cells": [
    {
      "cell_type": "code",
      "metadata": {
        "id": "h3QnnuEn4A4W",
        "colab_type": "code",
        "colab": {}
      },
      "source": [
        "# some startup! \n",
        "import numpy as np\n",
        "import matplotlib\n",
        "# This is needed to save images \n",
        "matplotlib.use('Agg')\n",
        "import matplotlib.pyplot as plt\n",
        "import torch"
      ],
      "execution_count": 0,
      "outputs": []
    },
    {
      "cell_type": "code",
      "metadata": {
        "id": "aiR3xZ4J4FRt",
        "colab_type": "code",
        "colab": {}
      },
      "source": [
        "mymodel_model = torch.load('models/mymodel-final.pt')"
      ],
      "execution_count": 0,
      "outputs": []
    },
    {
      "cell_type": "code",
      "metadata": {
        "id": "piH4ycIC43J4",
        "colab_type": "code",
        "colab": {}
      },
      "source": [
        "w = list(mymodel_model.parameters())[0].data.cpu().numpy()"
      ],
      "execution_count": 0,
      "outputs": []
    },
    {
      "cell_type": "code",
      "metadata": {
        "id": "Xnu5reOr8Oh-",
        "colab_type": "code",
        "colab": {
          "base_uri": "https://localhost:8080/",
          "height": 34
        },
        "outputId": "1c08f760-3238-4ea1-e890-aa1f46bf9407"
      },
      "source": [
        "w.shape"
      ],
      "execution_count": 14,
      "outputs": [
        {
          "output_type": "execute_result",
          "data": {
            "text/plain": [
              "(80, 3, 3, 3)"
            ]
          },
          "metadata": {
            "tags": []
          },
          "execution_count": 14
        }
      ]
    },
    {
      "cell_type": "code",
      "metadata": {
        "id": "uiotyqno8ago",
        "colab_type": "code",
        "colab": {
          "base_uri": "https://localhost:8080/",
          "height": 34
        },
        "outputId": "0753d4b9-a0df-4937-fc7f-f03c4b31ba81"
      },
      "source": [
        "from vis_utils import visualize_grid\n",
        "# saving the weights is now as simple as:\n",
        "plt.imsave('mymodel_gridfilt.png',visualize_grid(w, padding=3).astype('uint8'))\n",
        "# padding is the space between images. Make sure that w is of shape: (N,H,W,C)\n",
        "print('figure saved as a grid!')"
      ],
      "execution_count": 15,
      "outputs": [
        {
          "output_type": "stream",
          "text": [
            "figure saved as a grid!\n"
          ],
          "name": "stdout"
        }
      ]
    },
    {
      "cell_type": "code",
      "metadata": {
        "id": "hjarVloL8iIR",
        "colab_type": "code",
        "colab": {}
      },
      "source": [
        ""
      ],
      "execution_count": 0,
      "outputs": []
    }
  ]
}